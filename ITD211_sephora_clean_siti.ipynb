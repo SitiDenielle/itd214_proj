{
  "nbformat": 4,
  "nbformat_minor": 0,
  "metadata": {
    "colab": {
      "provenance": []
    },
    "kernelspec": {
      "name": "python3",
      "display_name": "Python 3"
    },
    "language_info": {
      "name": "python"
    }
  },
  "cells": [
    {
      "cell_type": "code",
      "execution_count": 1,
      "metadata": {
        "colab": {
          "base_uri": "https://localhost:8080/"
        },
        "id": "B1yoOh4j0NkX",
        "outputId": "a0efd5a4-aa94-44ff-e76f-015b21c7454f"
      },
      "outputs": [
        {
          "output_type": "stream",
          "name": "stderr",
          "text": [
            "/tmp/ipython-input-2014530875.py:5: DtypeWarning: Columns (1) have mixed types. Specify dtype option on import or set low_memory=False.\n",
            "  df = pd.read_csv(\"Sephora Reviews - 2021 and 2022.csv\")\n"
          ]
        }
      ],
      "source": [
        "import pandas as pd\n",
        "\n",
        "\n",
        "# 1. Load dataset\n",
        "df = pd.read_csv(\"Sephora Reviews - 2021 and 2022.csv\")"
      ]
    },
    {
      "cell_type": "code",
      "source": [
        "# 2. Standardize column names\n",
        "df = df.rename(columns={\n",
        "    'review_text': 'text',\n",
        "    'rating': 'stars',\n",
        "    'product_id': 'pid',\n",
        "    'author_id': 'uid',\n",
        "    'review_title': 'title'\n",
        "})"
      ],
      "metadata": {
        "id": "Vqz_sVhm1rrV"
      },
      "execution_count": 2,
      "outputs": []
    },
    {
      "cell_type": "code",
      "source": [
        "# 3. Handle missing values\n",
        "df = df.dropna(subset=['text', 'stars', 'pid', 'uid', 'title', 'product_name', 'brand_name'])\n",
        "df = df[df['text'].str.strip() != \"\"]\n",
        "df = df[df['stars'].between(1, 5)]\n",
        "print(df.head(5))"
      ],
      "metadata": {
        "colab": {
          "base_uri": "https://localhost:8080/"
        },
        "id": "WfAaPWUM1u7m",
        "outputId": "7a24692f-5789-4288-86ac-5a02fc0a42f1"
      },
      "execution_count": 3,
      "outputs": [
        {
          "output_type": "stream",
          "name": "stdout",
          "text": [
            "   Unnamed: 0          uid  stars  is_recommended  helpfulness  \\\n",
            "0         450   1796832802      3               0     0.714286   \n",
            "1         451  10255886039      2               0     0.500000   \n",
            "2         452   5049431408      5               1     1.000000   \n",
            "3         453   7052423388      4               1     0.333333   \n",
            "4         454  23120633832      5               1     0.500000   \n",
            "\n",
            "   total_feedback_count  total_neg_feedback_count  total_pos_feedback_count  \\\n",
            "0                     7                         2                         5   \n",
            "1                     2                         1                         1   \n",
            "2                     4                         0                         4   \n",
            "3                     3                         2                         1   \n",
            "4                     2                         1                         1   \n",
            "\n",
            "       submission_time                                               text  \\\n",
            "0  2022-12-31 00:00:00  I decided to try this as I had never used a li...   \n",
            "1  2022-12-31 00:00:00  Might as well be putting on Vaseline because I...   \n",
            "2  2022-12-31 00:00:00  Love this lip mask nothing else will do Aquaph...   \n",
            "3  2022-12-31 00:00:00  I really enjoy this product! Amazing smell and...   \n",
            "4  2022-12-31 00:00:00  The best. I have nothing else to really say ot...   \n",
            "\n",
            "   ... eye_color    skin_type hair_color      pid  \\\n",
            "0  ...     brown  combination        red  P420652   \n",
            "1  ...     brown       normal        NaN  P420652   \n",
            "2  ...      blue  combination     blonde  P420652   \n",
            "3  ...      blue  combination     blonde  P420652   \n",
            "4  ...     hazel          dry        NaN  P420652   \n",
            "\n",
            "                                        product_name brand_name price_usd  \\\n",
            "0  Lip Sleeping Mask Intense Hydration with Vitam...    LANEIGE      24.0   \n",
            "1  Lip Sleeping Mask Intense Hydration with Vitam...    LANEIGE      24.0   \n",
            "2  Lip Sleeping Mask Intense Hydration with Vitam...    LANEIGE      24.0   \n",
            "3  Lip Sleeping Mask Intense Hydration with Vitam...    LANEIGE      24.0   \n",
            "4  Lip Sleeping Mask Intense Hydration with Vitam...    LANEIGE      24.0   \n",
            "\n",
            "  submission_year  submission_month  submission_quarter  \n",
            "0            2022                12                   4  \n",
            "1            2022                12                   4  \n",
            "2            2022                12                   4  \n",
            "3            2022                12                   4  \n",
            "4            2022                12                   4  \n",
            "\n",
            "[5 rows x 22 columns]\n"
          ]
        }
      ]
    },
    {
      "cell_type": "code",
      "source": [
        "import re\n",
        "\n",
        "# 4. Text cleaning\n",
        "def clean_text(text):\n",
        "    text = text.lower()                                 # lowercase\n",
        "    text = re.sub(r\"http\\S+|www\\S+\", \" \", text)         # remove urls\n",
        "    text = re.sub(r\"[^a-z\\s]\", \" \", text)               # keep letters only\n",
        "    text = re.sub(r\"\\s+\", \" \", text).strip()            # normalize whitespace\n",
        "    return text\n",
        "\n",
        "df['clean_text'] = df['text'].astype(str).apply(clean_text)\n"
      ],
      "metadata": {
        "id": "jjkckucf2i3E"
      },
      "execution_count": 4,
      "outputs": []
    },
    {
      "cell_type": "code",
      "source": [
        "df = df[['stars', 'text', 'pid', 'uid', 'product_name', 'brand_name']]\n",
        "print(df.head(5))"
      ],
      "metadata": {
        "colab": {
          "base_uri": "https://localhost:8080/"
        },
        "id": "V13-TnuT5pgO",
        "outputId": "e95c7294-5de6-4b4e-cca0-e8b7d216210d"
      },
      "execution_count": 6,
      "outputs": [
        {
          "output_type": "stream",
          "name": "stdout",
          "text": [
            "   stars                                               text      pid  \\\n",
            "0      3  I decided to try this as I had never used a li...  P420652   \n",
            "1      2  Might as well be putting on Vaseline because I...  P420652   \n",
            "2      5  Love this lip mask nothing else will do Aquaph...  P420652   \n",
            "3      4  I really enjoy this product! Amazing smell and...  P420652   \n",
            "4      5  The best. I have nothing else to really say ot...  P420652   \n",
            "\n",
            "           uid                                       product_name brand_name  \n",
            "0   1796832802  Lip Sleeping Mask Intense Hydration with Vitam...    LANEIGE  \n",
            "1  10255886039  Lip Sleeping Mask Intense Hydration with Vitam...    LANEIGE  \n",
            "2   5049431408  Lip Sleeping Mask Intense Hydration with Vitam...    LANEIGE  \n",
            "3   7052423388  Lip Sleeping Mask Intense Hydration with Vitam...    LANEIGE  \n",
            "4  23120633832  Lip Sleeping Mask Intense Hydration with Vitam...    LANEIGE  \n"
          ]
        }
      ]
    },
    {
      "cell_type": "code",
      "source": [
        "#Map stars to sentiment\n",
        "def star_to_sentiment(s):\n",
        "    if s >= 4:\n",
        "        return \"positive\"\n",
        "    elif s <= 2:\n",
        "        return \"negative\"\n",
        "    else:\n",
        "        return \"neutral\"\n",
        "\n",
        "df['sentiment'] = df['stars'].apply(star_to_sentiment)"
      ],
      "metadata": {
        "id": "FQiCDrzU3Yoz"
      },
      "execution_count": 7,
      "outputs": []
    },
    {
      "cell_type": "code",
      "source": [
        "#sentiment\n",
        "label_map = {\"negative\": 0, \"positive\": 1, \"neutral\": -1}\n",
        "df['label'] = df['sentiment'].map(label_map)"
      ],
      "metadata": {
        "id": "W9lbX6Od3o5F"
      },
      "execution_count": 8,
      "outputs": []
    },
    {
      "cell_type": "code",
      "source": [
        "#Reset index\n",
        "df = df.reset_index(drop=True)"
      ],
      "metadata": {
        "id": "XqIG2Awk3yKp"
      },
      "execution_count": 9,
      "outputs": []
    },
    {
      "cell_type": "code",
      "source": [
        "#clean dataset\n",
        "print(df.head())\n",
        "print(f\"clean shape: {df.shape}\")"
      ],
      "metadata": {
        "colab": {
          "base_uri": "https://localhost:8080/"
        },
        "id": "2r7KOKYY6R41",
        "outputId": "d5f058a3-e8e8-46f1-b184-994302d59618"
      },
      "execution_count": 11,
      "outputs": [
        {
          "output_type": "stream",
          "name": "stdout",
          "text": [
            "   stars                                               text      pid  \\\n",
            "0      3  I decided to try this as I had never used a li...  P420652   \n",
            "1      2  Might as well be putting on Vaseline because I...  P420652   \n",
            "2      5  Love this lip mask nothing else will do Aquaph...  P420652   \n",
            "3      4  I really enjoy this product! Amazing smell and...  P420652   \n",
            "4      5  The best. I have nothing else to really say ot...  P420652   \n",
            "\n",
            "           uid                                       product_name brand_name  \\\n",
            "0   1796832802  Lip Sleeping Mask Intense Hydration with Vitam...    LANEIGE   \n",
            "1  10255886039  Lip Sleeping Mask Intense Hydration with Vitam...    LANEIGE   \n",
            "2   5049431408  Lip Sleeping Mask Intense Hydration with Vitam...    LANEIGE   \n",
            "3   7052423388  Lip Sleeping Mask Intense Hydration with Vitam...    LANEIGE   \n",
            "4  23120633832  Lip Sleeping Mask Intense Hydration with Vitam...    LANEIGE   \n",
            "\n",
            "  sentiment  label  \n",
            "0   neutral     -1  \n",
            "1  negative      0  \n",
            "2  positive      1  \n",
            "3  positive      1  \n",
            "4  positive      1  \n",
            "clean shape: (269476, 8)\n"
          ]
        }
      ]
    },
    {
      "cell_type": "code",
      "source": [
        "# Save cleaned file\n",
        "df.to_csv(\"sephora_reviews_clean_siti.csv\", index=False)"
      ],
      "metadata": {
        "id": "WAs6RTE56a5e"
      },
      "execution_count": 12,
      "outputs": []
    }
  ]
}